{
  "nbformat": 4,
  "nbformat_minor": 0,
  "metadata": {
    "colab": {
      "provenance": []
    },
    "kernelspec": {
      "name": "python3",
      "display_name": "Python 3"
    },
    "language_info": {
      "name": "python"
    }
  },
  "cells": [
    {
      "cell_type": "code",
      "execution_count": 10,
      "metadata": {
        "id": "xoCV14yy3U-t",
        "colab": {
          "base_uri": "https://localhost:8080/"
        },
        "outputId": "4d7898be-4977-45c4-be14-9aa4431c5c9e"
      },
      "outputs": [
        {
          "output_type": "stream",
          "name": "stdout",
          "text": [
            "Requirement already satisfied: nltk in /usr/local/lib/python3.10/dist-packages (3.8.1)\n",
            "Requirement already satisfied: click in /usr/local/lib/python3.10/dist-packages (from nltk) (8.1.7)\n",
            "Requirement already satisfied: joblib in /usr/local/lib/python3.10/dist-packages (from nltk) (1.4.0)\n",
            "Requirement already satisfied: regex>=2021.8.3 in /usr/local/lib/python3.10/dist-packages (from nltk) (2023.12.25)\n",
            "Requirement already satisfied: tqdm in /usr/local/lib/python3.10/dist-packages (from nltk) (4.66.2)\n"
          ]
        }
      ],
      "source": [
        "!pip install nltk\n"
      ]
    },
    {
      "cell_type": "code",
      "source": [
        "import nltk\n",
        "from nltk.corpus import stopwords\n",
        "nltk.download('stopwords')\n",
        "import matplotlib.pyplot as plt"
      ],
      "metadata": {
        "colab": {
          "base_uri": "https://localhost:8080/"
        },
        "id": "mTbYLSnB63U3",
        "outputId": "38875b70-9f53-4978-9c44-343b0a258889"
      },
      "execution_count": 23,
      "outputs": [
        {
          "output_type": "stream",
          "name": "stderr",
          "text": [
            "[nltk_data] Downloading package stopwords to /root/nltk_data...\n",
            "[nltk_data]   Package stopwords is already up-to-date!\n"
          ]
        }
      ]
    },
    {
      "cell_type": "code",
      "source": [
        "def remove_stop_words(string):\n",
        "  stop_words=set(stopwords.words('english'))\n",
        "  words=string.split()\n",
        "  filtered_words=[word for word in words if word.lower() not in stop_words]\n",
        "  new_string=''.join(filtered_words)\n",
        "  return new_string, len(words) - len(filtered_words)\n",
        "\n",
        "input_string = input(\"enter sentence:\")\n",
        "result, stop_word_count = remove_stop_words(input_string)\n",
        "\n",
        "print(\"Original string:\", input_string)\n",
        "print(\"Modified string:\", result)\n",
        "print(\"Number of stop words removed:\", stop_word_count)\n",
        "\n",
        "labels = ['Stop Words', 'Non-stop Words']\n",
        "count = [stop_word_count, len(input_string.split()) - stop_word_count]\n",
        "\n",
        "plt.bar(labels, count, color=['blue', 'green'])\n",
        "plt.xlabel('Word Type')\n",
        "plt.ylabel('Count')\n",
        "plt.title('Stop Word vs Non-stop Word Count')\n",
        "plt.show()\n",
        "\n",
        ""
      ],
      "metadata": {
        "colab": {
          "base_uri": "https://localhost:8080/",
          "height": 541
        },
        "id": "sAfc-rOS-ASX",
        "outputId": "61e0b0a2-127a-4bfc-ea24-2b150953d8c8"
      },
      "execution_count": 24,
      "outputs": [
        {
          "output_type": "stream",
          "name": "stdout",
          "text": [
            "enter sentence:There is a pen on the table\n",
            "Original string: There is a pen on the table\n",
            "Modified string: pentable\n",
            "Number of stop words removed: 5\n"
          ]
        },
        {
          "output_type": "display_data",
          "data": {
            "text/plain": [
              "<Figure size 640x480 with 1 Axes>"
            ],
            "image/png": "[encoded data removed]"
          },
          "metadata": {}
        }
      ]
    }
  ]
}