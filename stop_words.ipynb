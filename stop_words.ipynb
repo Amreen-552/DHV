{
  "nbformat": 4,
  "nbformat_minor": 0,
  "metadata": {
    "colab": {
      "provenance": []
    },
    "kernelspec": {
      "name": "python3",
      "display_name": "Python 3"
    },
    "language_info": {
      "name": "python"
    }
  },
  "cells": [
    {
      "cell_type": "code",
      "execution_count": 6,
      "metadata": {
        "id": "xoCV14yy3U-t",
        "colab": {
          "base_uri": "https://localhost:8080/"
        },
        "outputId": "f151c873-18b5-464a-d42f-d0730ebcbdf5"
      },
      "outputs": [
        {
          "output_type": "stream",
          "name": "stdout",
          "text": [
            "Requirement already satisfied: nltk in /usr/local/lib/python3.10/dist-packages (3.8.1)\n",
            "Requirement already satisfied: click in /usr/local/lib/python3.10/dist-packages (from nltk) (8.1.7)\n",
            "Requirement already satisfied: joblib in /usr/local/lib/python3.10/dist-packages (from nltk) (1.4.0)\n",
            "Requirement already satisfied: regex>=2021.8.3 in /usr/local/lib/python3.10/dist-packages (from nltk) (2023.12.25)\n",
            "Requirement already satisfied: tqdm in /usr/local/lib/python3.10/dist-packages (from nltk) (4.66.2)\n"
          ]
        }
      ],
      "source": [
        "!pip install nltk\n"
      ]
    },
    {
      "cell_type": "code",
      "source": [
        "import nltk\n",
        "from nltk.corpus import stopwords\n",
        "nltk.download('stopwords')\n",
        "import matplotlib.pyplot as plt"
      ],
      "metadata": {
        "colab": {
          "base_uri": "https://localhost:8080/"
        },
        "id": "mTbYLSnB63U3",
        "outputId": "2c0b74bd-c9d8-4a18-9df9-037684a9f4e4"
      },
      "execution_count": 5,
      "outputs": [
        {
          "output_type": "stream",
          "name": "stderr",
          "text": [
            "[nltk_data] Downloading package stopwords to /root/nltk_data...\n",
            "[nltk_data]   Unzipping corpora/stopwords.zip.\n"
          ]
        }
      ]
    },
    {
      "cell_type": "code",
      "source": [
        "def remove_stop_words(string):\n",
        "  stop_words=set(stopwords.words('english'))\n",
        "  words=string.split()\n",
        "  filtered_words=[word for word in words if word.lower() not in stop_words]\n",
        "  new_string=''.join(filtered_words)\n",
        "  return new_string, len(words) - len(filtered_words)\n",
        "\n",
        "input_string =  (\"A good book is a good friend\")\n",
        "result, stop_word_count = remove_stop_words(input_string)\n",
        "\n",
        "print(\"Original string:\", input_string)\n",
        "print(\"Modified string:\", result)\n",
        "print(\"Number of stop words removed:\", stop_word_count)\n",
        "\n",
        "labels = ['Stop Words', 'Non-stop Words']\n",
        "count = [stop_word_count, len(input_string.split()) - stop_word_count]\n",
        "\n",
        "plt.bar(labels, count, color=['blue','yellow'])\n",
        "plt.xlabel('Word Type')\n",
        "plt.ylabel('Count')\n",
        "plt.title('Stop Word vs Non-stop Word Count')\n",
        "plt.show()\n",
        "\n"
      ],
      "metadata": {
        "colab": {
          "base_uri": "https://localhost:8080/",
          "height": 524
        },
        "id": "sAfc-rOS-ASX",
        "outputId": "66bb5276-c33f-4062-d412-74ce470ebad6"
      },
      "execution_count": 9,
      "outputs": [
        {
          "output_type": "stream",
          "name": "stdout",
          "text": [
            "Original string: A good book is a good friend\n",
            "Modified string: goodbookgoodfriend\n",
            "Number of stop words removed: 3\n"
          ]
        },
        {
          "output_type": "display_data",
          "data": {
            "text/plain": [
              "<Figure size 640x480 with 1 Axes>"
            ],
            "image/png": "[encoded data removed]"
          },
          "metadata": {}
        }
      ]
    },
    {
      "cell_type": "code",
      "source": [],
      "metadata": {
        "id": "oEfpdqHjou7q"
      },
      "execution_count": null,
      "outputs": []
    }
  ]
}