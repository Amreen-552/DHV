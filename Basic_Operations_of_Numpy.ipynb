{
  "nbformat": 4,
  "nbformat_minor": 0,
  "metadata": {
    "colab": {
      "provenance": []
    },
    "kernelspec": {
      "name": "python3",
      "display_name": "Python 3"
    },
    "language_info": {
      "name": "python"
    }
  },
  "cells": [
    {
      "cell_type": "code",
      "execution_count": 8,
      "metadata": {
        "id": "sctC88i45Jzj"
      },
      "outputs": [],
      "source": [
        "import numpy as np"
      ]
    },
    {
      "cell_type": "code",
      "source": [
        "arr = np.array([1, 2, 3, 4, 5, 6, 7, 8, 9, 10, 11, 12])\n",
        "arr1 = np.array([[1, 3, 5, 7], [2, 4, 6, 8]])\n",
        "arr2 = np.array([[[1, 2], [3, 4]], [[5, 6], [7, 8]]])\n",
        "print(arr)\n",
        "print(arr1.shape)\n",
        "print(arr2.shape)"
      ],
      "metadata": {
        "colab": {
          "base_uri": "https://localhost:8080/"
        },
        "id": "Me3rnmU_7rM0",
        "outputId": "759f543a-dc94-4717-dd3e-a4064442312e"
      },
      "execution_count": null,
      "outputs": [
        {
          "output_type": "stream",
          "name": "stdout",
          "text": [
            "[ 1  2  3  4  5  6  7  8  9 10 11 12]\n",
            "(2, 4)\n",
            "(2, 2, 2)\n"
          ]
        }
      ]
    },
    {
      "cell_type": "code",
      "source": [
        "print(arr.shape)"
      ],
      "metadata": {
        "colab": {
          "base_uri": "https://localhost:8080/"
        },
        "id": "jVbawTXR9LdK",
        "outputId": "322668c0-a220-4e17-9a90-9e02336993b6"
      },
      "execution_count": null,
      "outputs": [
        {
          "output_type": "stream",
          "name": "stdout",
          "text": [
            "(12,)\n"
          ]
        }
      ]
    },
    {
      "cell_type": "code",
      "source": [
        "print(arr1.shape)"
      ],
      "metadata": {
        "colab": {
          "base_uri": "https://localhost:8080/"
        },
        "id": "dwdt5NSE9OIw",
        "outputId": "17060039-0bce-44b4-c857-645ee7b28867"
      },
      "execution_count": null,
      "outputs": [
        {
          "output_type": "stream",
          "name": "stdout",
          "text": [
            "(2, 4)\n"
          ]
        }
      ]
    },
    {
      "cell_type": "code",
      "source": [
        "print(arr2.shape)"
      ],
      "metadata": {
        "colab": {
          "base_uri": "https://localhost:8080/"
        },
        "id": "CQJJSrsB9Sco",
        "outputId": "97ffee6d-1bcb-4af2-f89e-190f480d42a7"
      },
      "execution_count": null,
      "outputs": [
        {
          "output_type": "stream",
          "name": "stdout",
          "text": [
            "(2, 2, 2)\n"
          ]
        }
      ]
    },
    {
      "cell_type": "code",
      "source": [
        "print(arr.ndim)"
      ],
      "metadata": {
        "colab": {
          "base_uri": "https://localhost:8080/"
        },
        "id": "2ELuuK2R9WBw",
        "outputId": "7117ddd4-fce0-4aa3-8920-7d0819bce6ba"
      },
      "execution_count": null,
      "outputs": [
        {
          "output_type": "stream",
          "name": "stdout",
          "text": [
            "1\n"
          ]
        }
      ]
    },
    {
      "cell_type": "code",
      "source": [
        "print(arr1.ndim)\n",
        "print(arr2.ndim)"
      ],
      "metadata": {
        "colab": {
          "base_uri": "https://localhost:8080/"
        },
        "id": "hxDkwqTI90O4",
        "outputId": "0a66dbd5-ec26-4989-c357-61eb98950100"
      },
      "execution_count": null,
      "outputs": [
        {
          "output_type": "stream",
          "name": "stdout",
          "text": [
            "2\n",
            "3\n"
          ]
        }
      ]
    },
    {
      "cell_type": "code",
      "source": [
        "print(arr.size)\n",
        "print(arr1.size)\n",
        "print(arr2.size)"
      ],
      "metadata": {
        "colab": {
          "base_uri": "https://localhost:8080/"
        },
        "id": "R7VTJT4g-AnH",
        "outputId": "0c4971e6-361d-461d-9c70-3e61fe35b3d1"
      },
      "execution_count": null,
      "outputs": [
        {
          "output_type": "stream",
          "name": "stdout",
          "text": [
            "12\n",
            "8\n",
            "8\n"
          ]
        }
      ]
    },
    {
      "cell_type": "code",
      "source": [
        "arr3=np.arange(0,20,2)\n",
        "print(arr3)"
      ],
      "metadata": {
        "colab": {
          "base_uri": "https://localhost:8080/"
        },
        "id": "Fd6ifd7Y-eBp",
        "outputId": "84aedc55-524f-43aa-f888-3fbc8c2a7cf8"
      },
      "execution_count": null,
      "outputs": [
        {
          "output_type": "stream",
          "name": "stdout",
          "text": [
            "[ 0  2  4  6  8 10 12 14 16 18]\n"
          ]
        }
      ]
    },
    {
      "cell_type": "code",
      "source": [
        "arr4=np.random.rand(10)\n",
        "print(arr4)"
      ],
      "metadata": {
        "colab": {
          "base_uri": "https://localhost:8080/"
        },
        "id": "BODb5GsJ_D3y",
        "outputId": "5fcac8ed-e04a-4e17-af17-bea68becac29"
      },
      "execution_count": null,
      "outputs": [
        {
          "output_type": "stream",
          "name": "stdout",
          "text": [
            "[0.67890822 0.87508378 0.2331291  0.22088561 0.58571549 0.70077308\n",
            " 0.70234595 0.75382919 0.13032384 0.9720902 ]\n"
          ]
        }
      ]
    },
    {
      "cell_type": "code",
      "source": [
        "arr5=np.random.rand(3,5)\n",
        "print(arr5)"
      ],
      "metadata": {
        "colab": {
          "base_uri": "https://localhost:8080/"
        },
        "id": "hvgEXi7b_T0a",
        "outputId": "fccc21a9-1e3a-4b96-97af-7c94c580e64b"
      },
      "execution_count": null,
      "outputs": [
        {
          "output_type": "stream",
          "name": "stdout",
          "text": [
            "[[0.17019476 0.71103683 0.73041661 0.11532159 0.31985393]\n",
            " [0.27644642 0.64496239 0.18302774 0.15118168 0.38257792]\n",
            " [0.51598136 0.81679881 0.63097411 0.48063202 0.51747296]]\n"
          ]
        }
      ]
    },
    {
      "cell_type": "code",
      "source": [
        "arr6 = np.linspace(10, 20, 5)\n",
        "print(\"The array over the given range is \",arr6)"
      ],
      "metadata": {
        "colab": {
          "base_uri": "https://localhost:8080/"
        },
        "id": "BLqv-apX_f1h",
        "outputId": "4f020c20-6afe-44d3-9643-a55966e2efff"
      },
      "execution_count": null,
      "outputs": [
        {
          "output_type": "stream",
          "name": "stdout",
          "text": [
            "The array over the given range is  [10.  12.5 15.  17.5 20. ]\n"
          ]
        }
      ]
    },
    {
      "cell_type": "code",
      "source": [
        "array_2d = np.ones((2, 3))\n",
        "print(array_2d)"
      ],
      "metadata": {
        "colab": {
          "base_uri": "https://localhost:8080/"
        },
        "id": "1SmoO1aD_915",
        "outputId": "75813868-0e1e-4a20-d532-1df4ba0c6df7"
      },
      "execution_count": null,
      "outputs": [
        {
          "output_type": "stream",
          "name": "stdout",
          "text": [
            "[[1. 1. 1.]\n",
            " [1. 1. 1.]]\n"
          ]
        }
      ]
    },
    {
      "cell_type": "code",
      "source": [
        "arr6 = np.zeros(5)\n",
        "print(arr6)\n"
      ],
      "metadata": {
        "colab": {
          "base_uri": "https://localhost:8080/"
        },
        "id": "KUftu81eAW_R",
        "outputId": "ad06256a-f875-406b-e8c3-e47cfc642e38"
      },
      "execution_count": null,
      "outputs": [
        {
          "output_type": "stream",
          "name": "stdout",
          "text": [
            "[0. 0. 0. 0. 0.]\n"
          ]
        }
      ]
    },
    {
      "cell_type": "code",
      "source": [
        "array7 = np.arange(1, 4)\n",
        "mainDiagonal = np.diag(array7)\n",
        "print('Array7:\\n',array7)\n",
        "print('Array7 as main diagonal elements:\\n', mainDiagonal)"
      ],
      "metadata": {
        "id": "geYxrafCApmf",
        "colab": {
          "base_uri": "https://localhost:8080/"
        },
        "outputId": "bc46d2c1-34b3-4bf9-ea85-bc2f7f4fa5e4"
      },
      "execution_count": null,
      "outputs": [
        {
          "output_type": "stream",
          "name": "stdout",
          "text": [
            "Array7:\n",
            " [1 2 3]\n",
            "Array7 as main diagonal elements:\n",
            " [[1 0 0]\n",
            " [0 2 0]\n",
            " [0 0 3]]\n"
          ]
        }
      ]
    },
    {
      "cell_type": "code",
      "source": [
        "arr8=np.random.rand(5,5)\n",
        "print(arr8)\n",
        "print(np.sum(arr8,axis=0))\n",
        "print(np.sum(arr8,axis=1))"
      ],
      "metadata": {
        "colab": {
          "base_uri": "https://localhost:8080/"
        },
        "id": "ka1VUzqxjC7Q",
        "outputId": "99208657-b302-4d00-df2d-7244c46c51bb"
      },
      "execution_count": null,
      "outputs": [
        {
          "output_type": "stream",
          "name": "stdout",
          "text": [
            "[[0.62717653 0.35836613 0.99525378 0.94856667 0.53770806]\n",
            " [0.05239889 0.50729374 0.31630719 0.86380969 0.07730929]\n",
            " [0.70552758 0.67493238 0.90981536 0.71210976 0.57287841]\n",
            " [0.02810293 0.91782033 0.31061639 0.24028714 0.84301273]\n",
            " [0.26545114 0.86031285 0.78167783 0.98008963 0.25033446]]\n",
            "[1.67865707 3.31872544 3.31367055 3.74486289 2.28124295]\n",
            "[3.46707116 1.81711881 3.5752635  2.33983952 3.13786591]\n"
          ]
        }
      ]
    },
    {
      "cell_type": "code",
      "source": [
        "array = np.array([[10, 17, 25],\n",
        "                  [15, 11, 22]])\n",
        "minValue = np.min(array)\n",
        "print('The smallest element in the flattened array: ', minValue)\n",
        "minValue = np.min(array, axis = 0)\n",
        "print('The smallest element in each column (axis 0): ', minValue)"
      ],
      "metadata": {
        "colab": {
          "base_uri": "https://localhost:8080/"
        },
        "id": "lUlwiInKj0tL",
        "outputId": "25fab4fc-afe5-46d0-82fa-bc8eb0ac964c"
      },
      "execution_count": null,
      "outputs": [
        {
          "output_type": "stream",
          "name": "stdout",
          "text": [
            "The smallest element in the flattened array:  10\n",
            "The smallest element in each column (axis 0):  [10 11 22]\n"
          ]
        }
      ]
    },
    {
      "cell_type": "code",
      "source": [
        "array = np.array([[10, 17, 25],\n",
        "                  [15, 11, 22]])\n",
        "maxValue = np.max(array)\n",
        "print('The largest element in the flattened array: ', maxValue)\n",
        "maxValue = np.max(array, axis = 0)\n",
        "print('The largest element in each column (axis 0): ', maxValue)"
      ],
      "metadata": {
        "colab": {
          "base_uri": "https://localhost:8080/"
        },
        "id": "q6ScAFiBlHwd",
        "outputId": "4059917f-a478-4985-c7fe-3c0d3de77733"
      },
      "execution_count": null,
      "outputs": [
        {
          "output_type": "stream",
          "name": "stdout",
          "text": [
            "The largest element in the flattened array:  25\n",
            "The largest element in each column (axis 0):  [15 17 25]\n"
          ]
        }
      ]
    },
    {
      "cell_type": "code",
      "source": [
        "arr = [[14, 17, 12, 33, 44],\n",
        "       [15, 6, 27, 8, 19],\n",
        "       [23, 2, 54, 1, 4, ]]\n",
        "print(\"\\nmean of arr, axis = None : \", np.mean(arr))\n",
        "print(\"\\nmean of arr, axis = 0 : \", np.mean(arr, axis = 0))\n",
        "print(\"\\nmean of arr, axis = 1 : \", np.mean(arr, axis = 1))"
      ],
      "metadata": {
        "id": "doB0Cxtvlphb",
        "colab": {
          "base_uri": "https://localhost:8080/"
        },
        "outputId": "3f3e2500-0d7d-4961-cd42-be244625f251"
      },
      "execution_count": 9,
      "outputs": [
        {
          "output_type": "stream",
          "name": "stdout",
          "text": [
            "\n",
            "mean of arr, axis = None :  18.6\n",
            "\n",
            "mean of arr, axis = 0 :  [17.33333333  8.33333333 31.         14.         22.33333333]\n",
            "\n",
            "mean of arr, axis = 1 :  [24.  15.  16.8]\n"
          ]
        }
      ]
    },
    {
      "cell_type": "code",
      "source": [
        "student_marks = [45, 50, 89, 32, 71, 29, 90, 40, 50, 60, 35, 80, 47]\n",
        "num_failed = sum(1 for mark in student_marks if mark < 30)\n",
        "pass_marks = [mark for mark in student_marks if mark >= 30]\n",
        "num_passed = len(student_marks) - num_failed\n",
        "print(\"Number of students who passed: \", num_passed)\n",
        "print(\"Number of students who failed: \", num_failed)\n",
        "print(\"Marks of students who failed: \", [mark for mark in student_marks if mark < 30])\n",
        "print(\"Marks of students who passed: \", pass_marks)"
      ],
      "metadata": {
        "colab": {
          "base_uri": "https://localhost:8080/"
        },
        "id": "GkiPVwZOveW8",
        "outputId": "4c3756ea-7f88-416a-ad8a-58b0be3ed659"
      },
      "execution_count": 12,
      "outputs": [
        {
          "output_type": "stream",
          "name": "stdout",
          "text": [
            "Number of students who passed:  12\n",
            "Number of students who failed:  1\n",
            "Marks of students who failed:  [29]\n",
            "Marks of students who passed:  [45, 50, 89, 32, 71, 90, 40, 50, 60, 35, 80, 47]\n"
          ]
        }
      ]
    },
    {
      "cell_type": "code",
      "source": [
        "m, n = 5, 4\n",
        "arr = np.random.randint(1, 51, size=(m, n))\n",
        "print(arr)"
      ],
      "metadata": {
        "colab": {
          "base_uri": "https://localhost:8080/"
        },
        "id": "I45km7Yyxn17",
        "outputId": "0f772d20-2830-42a8-f1f1-8394127cf682"
      },
      "execution_count": 13,
      "outputs": [
        {
          "output_type": "stream",
          "name": "stdout",
          "text": [
            "[[40 36 29 37]\n",
            " [ 7 31 17 17]\n",
            " [ 6 10 41 37]\n",
            " [24 21 37 47]\n",
            " [13 15 49 43]]\n"
          ]
        }
      ]
    },
    {
      "cell_type": "code",
      "source": [
        "arr = np.arange(-30, 11)\n",
        "arr = arr[arr % 2 != 0]\n",
        "print(arr)"
      ],
      "metadata": {
        "colab": {
          "base_uri": "https://localhost:8080/"
        },
        "id": "jUorgGJ7ySyd",
        "outputId": "4eb79af0-d3ee-480a-f5f3-1509e35f056d"
      },
      "execution_count": 15,
      "outputs": [
        {
          "output_type": "stream",
          "name": "stdout",
          "text": [
            "[-29 -27 -25 -23 -21 -19 -17 -15 -13 -11  -9  -7  -5  -3  -1   1   3   5\n",
            "   7   9]\n"
          ]
        }
      ]
    }
  ]
}